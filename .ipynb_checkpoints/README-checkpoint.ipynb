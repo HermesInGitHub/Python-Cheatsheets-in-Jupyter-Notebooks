{
 "cells": [
  {
   "cell_type": "markdown",
   "id": "6be3b8de-de49-414c-a248-7d02e4d2a265",
   "metadata": {},
   "source": [
    "# Introduction\n",
    "\n",
    "This tutorial is derived from a python cheatsheet, contained in Jupyter notebooks."
   ]
  },
  {
   "cell_type": "markdown",
   "id": "7c5672aa-d68f-4abf-9664-71618ea4ac4a",
   "metadata": {},
   "source": [
    "## What is programming?\n",
    "\n",
    "Programming is in essence data processing. Programmers use programming languages manipulate nothing but data, which are abstractions of the real world.\n",
    "\n",
    "For convinience, every programming language defines seveal fundamental types of data, including basic ones such as numbers, strings, or binaries, and other more complicated ones based upon basic data types such as list (or array), dictionaries, maps and objects etc. \n",
    "\n",
    "Data are usually stored in variables, which is simply a jargon of programer. You can imagine a varible is a box with a label containing specific type of data, and each statement or function in the program are transfering these boxes in which data have been changed or manipulated.\n",
    "\n",
    "To process data, there must be a procedure to be executed, in which some tasks are completed step by step (sequnce), some tasks have to be repeated (loop), and some tasks should be done only some conditions are met (conditional)... which is universally called \"flow control\" in all programing languages. \n",
    "\n",
    "A statement in any programing launage is equivalent to an data manipulating task, simple as that.  And complicated tasks could be packed into a so-called \"function\" to be used repeatedly in various steps in the procedure. \n",
    "\n",
    "... And that's all you need to know as an absolute beginner, besides which you'd better be capable of using plain English. "
   ]
  },
  {
   "cell_type": "markdown",
   "id": "78efccf9-a8be-48c8-88c9-9ba4f227bdc4",
   "metadata": {},
   "source": [
    "## What is Python?\n",
    "\n",
    "Python is a programming language that is known for its simplicity, ease of use, and beginner-friendly nature. It is also widely popular in the field of artificial intelligence (AI)."
   ]
  },
  {
   "cell_type": "markdown",
   "id": "d72a5017-ee85-4a7b-b828-e814d3ef9838",
   "metadata": {},
   "source": [
    "## Setting up the Development Environment\n",
    "\n",
    "To set up a development environment on your computer, you can follow these steps:\n",
    "\n",
    "1. Install Homebrew by running the following command in your terminal:\n",
    "\n",
    "```bash\n",
    "/bin/bash -c \"$(curl -fsSL https://raw.githubusercontent.com/Homebrew/install/HEAD/install.sh)\"\n",
    "```\n",
    "\n",
    "2. Install JupyterLab Desktop using Homebrew by running the following command in your terminal:\n",
    "\n",
    "```bash\n",
    "brew install --cask jupyterlab\n",
    "```\n",
    "\n",
    "3. Manually set up the JupyterLab command-line interface (CLI) by running the following commands in your terminal:\n",
    "\n",
    "```bash\n",
    "sudo chmod 755 /Applications/JupyterLab.app/Contents/Resources/app/jlab\n",
    "sudo ln -s /Applications/JupyterLab.app/Contents/Resources/app/jlab /usr/local/bin/jlab\n",
    "```\n",
    "\n",
    "Once you have completed these steps, you can launch JupyterLab Desktop either by typing \"Jupyter\" in Spotlight and clicking on the JupyterLab Desktop icon, or by using the CLI command \"jlab\" in the terminal.\n",
    "\n",
    "Now you are ready to start using JupyterLab for your Python development."
   ]
  },
  {
   "cell_type": "markdown",
   "id": "9341e4cd-9a3a-4445-b6b4-11b036015eeb",
   "metadata": {},
   "source": [
    "## Get this tutorial to local\n",
    "\n",
    "1. Install `git` by running the following command in your terminal:\n",
    "\n",
    "```bash\n",
    "brew install git\n",
    "```\n",
    "\n",
    "2. Clone this repo:\n",
    "\n",
    "``` bash\n",
    "mkdir ~/github\n",
    "cd ~/github\n",
    "git clone ....\n",
    "```\n",
    "\n",
    "3. Launch JupyterLab-Desktop to view notebooks:\n",
    "\n",
    "```bash\n",
    "cd ~/github/...\n",
    "jlab .\n",
    "```"
   ]
  },
  {
   "cell_type": "code",
   "execution_count": null,
   "id": "e4ca9918-472e-403a-a6bc-55ff664dee09",
   "metadata": {},
   "outputs": [],
   "source": []
  }
 ],
 "metadata": {
  "kernelspec": {
   "display_name": "Python 3 (ipykernel)",
   "language": "python",
   "name": "python3"
  },
  "language_info": {
   "codemirror_mode": {
    "name": "ipython",
    "version": 3
   },
   "file_extension": ".py",
   "mimetype": "text/x-python",
   "name": "python",
   "nbconvert_exporter": "python",
   "pygments_lexer": "ipython3",
   "version": "3.12.0"
  }
 },
 "nbformat": 4,
 "nbformat_minor": 5
}
